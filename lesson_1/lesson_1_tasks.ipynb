{
 "cells": [
  {
   "attachments": {},
   "cell_type": "markdown",
   "metadata": {},
   "source": [
    "1. Подберите скорость обучения (alpha) и количество итераций"
   ]
  },
  {
   "cell_type": "code",
   "execution_count": 13,
   "metadata": {},
   "outputs": [],
   "source": [
    "import numpy as np\n",
    "import matplotlib.pyplot as plt\n",
    "from mpl_toolkits.mplot3d.axes3d import Axes3D\n",
    "\n",
    "\n",
    "def calc_mae(y, y_pred):\n",
    "    return np.mean(np.abs(y - y_pred))\n",
    "\n",
    "\n",
    "def calc_mse(y, y_pred):\n",
    "    return np.mean((y - y_pred)**2)"
   ]
  },
  {
   "cell_type": "code",
   "execution_count": 14,
   "metadata": {},
   "outputs": [],
   "source": [
    "X = np.array([[ 1,  1],\n",
    "              [ 1,  1],\n",
    "              [ 1,  2],\n",
    "              [ 1,  5],\n",
    "              [ 1,  3],\n",
    "              [ 1,  0],\n",
    "              [ 1,  5],\n",
    "              [ 1, 10],\n",
    "              [ 1,  1],\n",
    "              [ 1,  2]])\n",
    "y = [45, 55, 50, 55, 60, 35, 75, 80, 50, 60]"
   ]
  },
  {
   "cell_type": "code",
   "execution_count": 15,
   "metadata": {},
   "outputs": [
    {
     "name": "stdout",
     "output_type": "stream",
     "text": [
      "Number of objects = 10        \n",
      "Learning rate = 0.01        \n",
      "Initial weights = [1.  0.5] \n",
      "\n",
      "Iteration #0: New weights = [2.08 4.27], MSE = 3047.75\n",
      "Iteration #10: New weights = [ 6.67106886 10.61676385], MSE = 749.71\n",
      "Iteration #20: New weights = [ 9.49320908 10.25731657], MSE = 648.91\n",
      "Iteration #30: New weights = [11.85740092  9.83349244], MSE = 570.46\n",
      "Iteration #40: New weights = [13.86876921  9.46898661], MSE = 508.03\n",
      "Iteration #50: New weights = [15.59085668  9.15672679], MSE = 457.73\n",
      "Iteration #60: New weights = [17.07337653  8.88789585], MSE = 416.77\n",
      "Iteration #70: New weights = [18.35601294  8.65530964], MSE = 383.06\n",
      "Iteration #80: New weights = [19.47073522  8.45317196], MSE = 355.08\n",
      "Iteration #90: New weights = [20.44350656  8.27677488], MSE = 331.65\n"
     ]
    }
   ],
   "source": [
    "n = X.shape[0]\n",
    "alpha = 10**(-2)\n",
    "n_iter = 100\n",
    "W = np.array([1, 0.5])\n",
    "print(f'Number of objects = {n} \\\n",
    "       \\nLearning rate = {alpha} \\\n",
    "       \\nInitial weights = {W} \\n')\n",
    "for i in range(n_iter):\n",
    "    y_pred = np.dot(X, W)\n",
    "    err = calc_mse(y, y_pred)\n",
    "    for k in range(W.shape[0]):\n",
    "        W[k] -= alpha * (1/n * 2 * X[:, k] @ (y_pred - y))\n",
    "    if i % 10 == 0:\n",
    "        alpha /= 1.1\n",
    "        print(f'Iteration #{i}: New weights = {W}, MSE = {round(err, 2)}')"
   ]
  },
  {
   "attachments": {},
   "cell_type": "markdown",
   "metadata": {},
   "source": [
    "2. В этом коде мы избавляемся от итераций по весам, но здесь есть ошибка, исправьте её. (код в материалах к уроку)"
   ]
  },
  {
   "cell_type": "code",
   "execution_count": 16,
   "metadata": {},
   "outputs": [
    {
     "name": "stdout",
     "output_type": "stream",
     "text": [
      "Number of objects = 10        \n",
      "Learning rate = 0.01        \n",
      "Initial weights = [1.  0.5] \n",
      "\n",
      "Iteration #0: New weights = [2.08 4.27], MSE = 3047.75\n",
      "Iteration #10: New weights = [ 7.0011236 10.6169007], MSE = 738.65\n",
      "Iteration #20: New weights = [10.3486292  10.10603105], MSE = 622.03\n",
      "Iteration #30: New weights = [13.38789582  9.55618391], MSE = 525.24\n",
      "Iteration #40: New weights = [16.16088505  9.05336203], MSE = 444.66\n",
      "Iteration #50: New weights = [18.69110735  8.59454545], MSE = 377.58\n",
      "Iteration #60: New weights = [20.99981865  8.17589626], MSE = 321.72\n",
      "Iteration #70: New weights = [23.10641138  7.79389815], MSE = 275.22\n",
      "Iteration #80: New weights = [25.02858024  7.44534246], MSE = 236.5\n",
      "Iteration #90: New weights = [26.78247081  7.12730145], MSE = 204.27\n"
     ]
    }
   ],
   "source": [
    "n = X.shape[0]\n",
    "alpha = 10**(-2) \n",
    "n_iter = 100\n",
    "W = np.array([1, 0.5])\n",
    "print(f'Number of objects = {n} \\\n",
    "       \\nLearning rate = {alpha} \\\n",
    "       \\nInitial weights = {W} \\n')\n",
    "for i in range(n_iter):\n",
    "    y_pred = np.dot(X, W)\n",
    "    err = calc_mse(y, y_pred)\n",
    "#     for k in range(W.shape[0]):\n",
    "#         W[k] -= eta * (1/n * 2 * X[:, k] @ (y_pred - y))\n",
    "    # ИЗМЕНЕНИЯ\n",
    "    W -= alpha * (1/n * 2 * np.dot(X.T, y_pred - y))\n",
    "    # ИЗМЕНЕНИЯ\n",
    "    #\n",
    "    if i % 10 == 0:\n",
    "        print(f'Iteration #{i}: New weights = {W}, MSE = {round(err,2)}')"
   ]
  },
  {
   "attachments": {},
   "cell_type": "markdown",
   "metadata": {},
   "source": [
    "3. Вместо того чтобы задавать количество итераций, задайте условие остановки алгоритма, когда ошибка за итерацию начинает изменяться ниже определённого порога — упрощённый аналог параметра tol в линейной регрессии в sklearn."
   ]
  },
  {
   "cell_type": "code",
   "execution_count": 18,
   "metadata": {},
   "outputs": [
    {
     "name": "stdout",
     "output_type": "stream",
     "text": [
      "Number of objects = 10        \n",
      "Learning rate = 0.01        \n",
      "Initial weights = [1.  0.5] \n",
      "\n",
      "Last iteration #402: W_new = [44.00437352  4.00437492], MSE = 44.51\n"
     ]
    }
   ],
   "source": [
    "n = X.shape[0]\n",
    "alpha = 10**(-2) \n",
    "n_iter = 100\n",
    "W = np.array([1, 0.5])\n",
    "print(f'Number of objects = {n} \\\n",
    "       \\nLearning rate = {alpha} \\\n",
    "       \\nInitial weights = {W} \\n')\n",
    "max_mse_diff = 0.01\n",
    "i = 0\n",
    "mse_prev = 0\n",
    "while True:\n",
    "    y_pred = np.dot(X, W)\n",
    "    err = calc_mse(y, y_pred)\n",
    "    W -= alpha * (1/n * 2 * np.dot(X.T, y_pred - y))\n",
    "    i += 1\n",
    "    if abs(err - mse_prev) <= max_mse_diff:\n",
    "        break\n",
    "    mse_prev = err\n",
    "print(f'Last iteration #{i}: W_new = {W}, MSE = {round(err,2)}')"
   ]
  },
  {
   "cell_type": "code",
   "execution_count": null,
   "metadata": {},
   "outputs": [],
   "source": []
  }
 ],
 "metadata": {
  "kernelspec": {
   "display_name": "Python 3",
   "language": "python",
   "name": "python3"
  },
  "language_info": {
   "codemirror_mode": {
    "name": "ipython",
    "version": 3
   },
   "file_extension": ".py",
   "mimetype": "text/x-python",
   "name": "python",
   "nbconvert_exporter": "python",
   "pygments_lexer": "ipython3",
   "version": "3.10.6"
  },
  "orig_nbformat": 4
 },
 "nbformat": 4,
 "nbformat_minor": 2
}
