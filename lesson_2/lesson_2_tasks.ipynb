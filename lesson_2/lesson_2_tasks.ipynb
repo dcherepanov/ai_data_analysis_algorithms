{
 "cells": [
  {
   "attachments": {},
   "cell_type": "markdown",
   "metadata": {},
   "source": [
    "1. Постройте график зависимости весов всех признаков от lambda в L2-регуляризации на основе данных из урока."
   ]
  },
  {
   "cell_type": "code",
   "execution_count": 30,
   "metadata": {},
   "outputs": [],
   "source": [
    "import numpy as np\n",
    "from sklearn import datasets\n",
    "from sklearn.linear_model import Ridge\n",
    "import matplotlib.pyplot as plt\n",
    "\n",
    "X = np.array([[   1,    1,  500,    1],\n",
    "              [   1,    1,  700,    1],\n",
    "              [   1,    2,  750,    2],\n",
    "              [   1,    5,  600,    1],\n",
    "              [   1,    3, 1450,    2],\n",
    "              [   1,    0,  800,    1],\n",
    "              [   1,    5, 1500,    3],\n",
    "              [   1,   10, 2000,    3],\n",
    "              [   1,    1,  450,    1],\n",
    "              [   1,    2, 1000,    2]])\n",
    "y = [45, 55, 50, 55, 60, 35, 75, 80, 50, 60]"
   ]
  },
  {
   "cell_type": "code",
   "execution_count": 31,
   "metadata": {},
   "outputs": [
    {
     "data": {
      "text/plain": [
       "<matplotlib.legend.Legend at 0x7f93093f2320>"
      ]
     },
     "execution_count": 31,
     "metadata": {},
     "output_type": "execute_result"
    },
    {
     "data": {
      "image/png": "[encoded data removed]",
      "text/plain": [
       "<Figure size 648x432 with 1 Axes>"
      ]
     },
     "metadata": {
      "needs_background": "light"
     },
     "output_type": "display_data"
    }
   ],
   "source": [
    "n = 50\n",
    "coeffs = np.zeros((n, X.shape[1]))\n",
    "lambda_values = np.logspace(-3, 2, n)\n",
    "fig, ax = plt.subplots(1, figsize=(9, 6))\n",
    "ax.set_xlabel('lambda')\n",
    "ax.set_ylabel('Вес признака')\n",
    "for i, lambda_value in enumerate(lambda_values):\n",
    "    ridge = Ridge(alpha=lambda_value, fit_intercept=False)\n",
    "    ridge.fit(X, y)\n",
    "    coeffs[i, :] = ridge.coef_.flatten()\n",
    "for i in range(X.shape[1]):\n",
    "    ax.plot(lambda_values, coeffs[:, i], label=f'Признак #{i + 1}')\n",
    "ax.legend(loc='upper right')"
   ]
  },
  {
   "attachments": {},
   "cell_type": "markdown",
   "metadata": {},
   "source": [
    "2. Можно ли к одному и тому же признаку применить сразу и нормализацию, и стандартизацию?"
   ]
  },
  {
   "attachments": {},
   "cell_type": "markdown",
   "metadata": {},
   "source": [
    "Очевидно, что:\n",
    "$$norm(standard(X)) = \\frac{X / std(X) - \\overline{X} / std(X) - min(X) / std(X) + \\overline{X} / std(X)}{max(X) / std(X) - \\overline{X} / std(X) - min(X) / std(X) + \\overline{X} / std(X)} = \\frac{X - min(X)}{max(X) - min(X)} = norm(X)$$\n",
    "То есть получаем по определению нормализованные значения $X$."
   ]
  },
  {
   "attachments": {},
   "cell_type": "markdown",
   "metadata": {},
   "source": [
    "Кроме того:\n",
    "$$standard(norm(X)) = \\frac{(X - min(X)) / (max(X) - min(X)) - (\\overline{X} - min(X)) / (max(X) - min(X))}{std(X) / (max(X) - min(X))} = \\frac{X - \\overline{X}}{std(X)}$$\n",
    "То есть получаем по определению стандартизованные значения $X$. Проверим, что это действительно так:"
   ]
  },
  {
   "cell_type": "code",
   "execution_count": 32,
   "metadata": {},
   "outputs": [],
   "source": [
    "def standard(X):\n",
    "    return (X - X.mean(axis=0)) / X.std(axis=0)\n",
    "\n",
    "\n",
    "def normal(X):\n",
    "    return (X - X.min(axis=0)) / (X.max(axis=0) - X.min(axis=0))"
   ]
  },
  {
   "cell_type": "code",
   "execution_count": 38,
   "metadata": {},
   "outputs": [
    {
     "data": {
      "text/plain": [
       "(array([1., 0., 0., 0.]), array([1., 1., 1., 1.]))"
      ]
     },
     "execution_count": 38,
     "metadata": {},
     "output_type": "execute_result"
    }
   ],
   "source": [
    "X_norm = X.copy().astype('float64')\n",
    "X_norm[:, 1:] = normal(X_norm[:, 1:])\n",
    "X_norm.min(axis=0), X_norm.max(axis=0)"
   ]
  },
  {
   "cell_type": "code",
   "execution_count": 39,
   "metadata": {},
   "outputs": [
    {
     "data": {
      "text/plain": [
       "(array([1.        , 0.3       , 0.33870968, 0.35      ]),\n",
       " array([0.        , 0.28284271, 0.31283671, 0.39051248]))"
      ]
     },
     "execution_count": 39,
     "metadata": {},
     "output_type": "execute_result"
    }
   ],
   "source": [
    "X_norm.mean(axis=0), X_norm.std(axis=0)"
   ]
  },
  {
   "cell_type": "code",
   "execution_count": 41,
   "metadata": {},
   "outputs": [
    {
     "data": {
      "text/plain": [
       "(array([ 1.        , -1.06066017, -1.08270439, -0.89625816]),\n",
       " array([1.        , 2.47487373, 2.11385144, 1.66447944]))"
      ]
     },
     "execution_count": 41,
     "metadata": {},
     "output_type": "execute_result"
    }
   ],
   "source": [
    "X_norm_standard = X_norm.copy().astype('float64')\n",
    "X_norm_standard[:, 1:] = standard(X_norm[:, 1:])\n",
    "X_norm_standard.min(axis=0), X_norm_standard.max(axis=0)"
   ]
  },
  {
   "cell_type": "code",
   "execution_count": 42,
   "metadata": {},
   "outputs": [
    {
     "data": {
      "text/plain": [
       "(array([ 1.00000000e+00, -1.49880108e-16, -6.86950496e-17,  8.32667268e-17]),\n",
       " array([0., 1., 1., 1.]))"
      ]
     },
     "execution_count": 42,
     "metadata": {},
     "output_type": "execute_result"
    }
   ],
   "source": [
    "X_norm_standard.mean(axis=0), X_norm_standard.std(axis=0)"
   ]
  },
  {
   "attachments": {},
   "cell_type": "markdown",
   "metadata": {},
   "source": [
    "Стандартизация без нормализации:"
   ]
  },
  {
   "cell_type": "code",
   "execution_count": 43,
   "metadata": {},
   "outputs": [
    {
     "data": {
      "text/plain": [
       "(array([ 1.        , -1.06066017, -1.08270439, -0.89625816]),\n",
       " array([1.        , 2.47487373, 2.11385144, 1.66447944]))"
      ]
     },
     "execution_count": 43,
     "metadata": {},
     "output_type": "execute_result"
    }
   ],
   "source": [
    "X_standard = X.copy().astype('float64')\n",
    "X_standard[:, 1:4] = standard(X.copy().astype('float64')[:, 1:4])\n",
    "X_standard.min(axis=0), X_standard.max(axis=0)"
   ]
  },
  {
   "cell_type": "code",
   "execution_count": 44,
   "metadata": {},
   "outputs": [
    {
     "data": {
      "text/plain": [
       "(array([1.00000000e+00, 2.22044605e-17, 2.49800181e-17, 8.32667268e-17]),\n",
       " array([0., 1., 1., 1.]))"
      ]
     },
     "execution_count": 44,
     "metadata": {},
     "output_type": "execute_result"
    }
   ],
   "source": [
    "X_standard.mean(axis=0), X_standard.std(axis=0)"
   ]
  },
  {
   "cell_type": "code",
   "execution_count": 45,
   "metadata": {},
   "outputs": [
    {
     "data": {
      "text/plain": [
       "array([[0.00000000e+00, 2.22044605e-16, 2.22044605e-16, 0.00000000e+00],\n",
       "       [0.00000000e+00, 2.22044605e-16, 0.00000000e+00, 0.00000000e+00],\n",
       "       [0.00000000e+00, 1.66533454e-16, 1.11022302e-16, 0.00000000e+00],\n",
       "       [0.00000000e+00, 1.11022302e-16, 0.00000000e+00, 0.00000000e+00],\n",
       "       [0.00000000e+00, 1.96261557e-16, 1.11022302e-16, 0.00000000e+00],\n",
       "       [0.00000000e+00, 2.22044605e-16, 1.11022302e-16, 0.00000000e+00],\n",
       "       [0.00000000e+00, 1.11022302e-16, 2.22044605e-16, 0.00000000e+00],\n",
       "       [0.00000000e+00, 0.00000000e+00, 0.00000000e+00, 0.00000000e+00],\n",
       "       [0.00000000e+00, 2.22044605e-16, 2.22044605e-16, 0.00000000e+00],\n",
       "       [0.00000000e+00, 1.66533454e-16, 4.85722573e-17, 0.00000000e+00]])"
      ]
     },
     "execution_count": 45,
     "metadata": {},
     "output_type": "execute_result"
    }
   ],
   "source": [
    "X_standard - X_norm_standard"
   ]
  },
  {
   "attachments": {},
   "cell_type": "markdown",
   "metadata": {},
   "source": [
    "Получили те же стандартизованные значения, что при проведении стандартизации после нормализации. Значит, применить сразу и нормализацию, и стандартизацию можно."
   ]
  },
  {
   "attachments": {},
   "cell_type": "markdown",
   "metadata": {},
   "source": [
    "3. Напишите функцию наподобие eval_model_reg2, но для применения L1-регуляризации."
   ]
  },
  {
   "cell_type": "code",
   "execution_count": 46,
   "metadata": {},
   "outputs": [],
   "source": [
    "def calc_mse(y, y_pred):\n",
    "  return np.mean((y - y_pred)**2)"
   ]
  },
  {
   "cell_type": "code",
   "execution_count": 50,
   "metadata": {},
   "outputs": [
    {
     "name": "stdout",
     "output_type": "stream",
     "text": [
      "0 [1.61667987 0.048053   0.81846402 1.69931046] 3257.191050140549\n",
      "500 [56.49274867  5.89861272  1.03574686  5.52733146] 25.236236026782528\n",
      "1000 [56.49499991  6.1932236   0.13239326  6.17053692] 24.946885410620816\n",
      "1500 [56.495       6.25289522 -0.14950704  6.40592828] 24.912106725626096\n",
      "2000 [56.495       6.27189714 -0.24375792  6.48421886] 24.906839357600976\n",
      "2500 [56.495       6.27890883 -0.27773679  6.51229021] 24.905713582239716\n",
      "3000 [56.495       6.28144143 -0.28996996  6.52238869] 24.905408236067213\n",
      "3500 [56.495       6.28235347 -0.29437333  6.52602327] 24.905311272594467\n",
      "4000 [56.495       6.28268178 -0.29595829  6.52733149] 24.90527804856104\n",
      "4500 [56.495       6.28279995 -0.29652879  6.52780237] 24.90526630715108\n"
     ]
    },
    {
     "data": {
      "text/plain": [
       "array([56.495     ,  6.28284243, -0.2967339 ,  6.52797166])"
      ]
     },
     "execution_count": 50,
     "metadata": {},
     "output_type": "execute_result"
    }
   ],
   "source": [
    "def eval_model_reg1(X, y, iterations, alpha=1e-4, lambda_=1e-8):\n",
    "    np.random.seed(42)\n",
    "    W = np.random.randn(X.shape[1])\n",
    "    n = X.shape[0]\n",
    "    for i in range(iterations):\n",
    "        y_pred = np.dot(X, W)\n",
    "        err = calc_mse(y, y_pred)\n",
    "        W -= alpha * (2./n * np.dot(X.T, (y_pred - y)) + lambda_ * (W / np.abs(W))) \n",
    "        if (i) % (iterations / 10) == 0:\n",
    "            print(i, W, err)\n",
    "    return W\n",
    "\n",
    "eval_model_reg1(X_standard, y, iterations=5000, alpha=1e-2, lambda_=1e-2)"
   ]
  },
  {
   "cell_type": "code",
   "execution_count": null,
   "metadata": {},
   "outputs": [],
   "source": []
  }
 ],
 "metadata": {
  "kernelspec": {
   "display_name": "Python 3",
   "language": "python",
   "name": "python3"
  },
  "language_info": {
   "codemirror_mode": {
    "name": "ipython",
    "version": 3
   },
   "file_extension": ".py",
   "mimetype": "text/x-python",
   "name": "python",
   "nbconvert_exporter": "python",
   "pygments_lexer": "ipython3",
   "version": "3.10.6"
  },
  "orig_nbformat": 4
 },
 "nbformat": 4,
 "nbformat_minor": 2
}
