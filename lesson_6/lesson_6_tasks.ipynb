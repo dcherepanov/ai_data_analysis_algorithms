{
 "cells": [
  {
   "attachments": {},
   "cell_type": "markdown",
   "metadata": {},
   "source": [
    "1. Для реализованной модели градиентного бустинга постройте графики зависимости ошибки от количества деревьев в ансамбле и от максимальной глубины деревьев. Сделайте выводы о зависимости ошибки от этих параметров."
   ]
  },
  {
   "cell_type": "code",
   "execution_count": 23,
   "metadata": {},
   "outputs": [],
   "source": [
    "from sklearn.tree import DecisionTreeRegressor\n",
    "from sklearn import model_selection\n",
    "from sklearn.datasets import load_diabetes\n",
    "from mpl_toolkits.axes_grid1.axes_divider import make_axes_locatable\n",
    "import numpy as np\n",
    "import matplotlib.pyplot as plt"
   ]
  },
  {
   "cell_type": "code",
   "execution_count": 11,
   "metadata": {},
   "outputs": [],
   "source": [
    "def gb_predict(X, trees_list, coef_list, eta):\n",
    "    return np.array([sum([eta* coef * alg.predict([x])[0] for alg, coef in zip(trees_list, coef_list)]) for x in X])\n",
    "\n",
    "\n",
    "def mean_squared_error(y_real, prediction):\n",
    "    return (sum((y_real - prediction)**2)) / len(y_real)\n",
    "\n",
    "\n",
    "def bias(y, z):\n",
    "    return (y - z)"
   ]
  },
  {
   "cell_type": "code",
   "execution_count": 12,
   "metadata": {},
   "outputs": [],
   "source": [
    "def gb_fit(X_train, y_train, X_test, y_test, n_trees, max_depth, coefs, eta):\n",
    "    trees = []\n",
    "    train_errors = []\n",
    "    test_errors = []\n",
    "    for i in range(n_trees):\n",
    "        tree = DecisionTreeRegressor(max_depth=max_depth, random_state=42)\n",
    "        if len(trees) == 0:\n",
    "            tree.fit(X_train, y_train)\n",
    "            train_errors.append(mean_squared_error(y_train, gb_predict(X_train, trees, coefs, eta)))\n",
    "            test_errors.append(mean_squared_error(y_test, gb_predict(X_test, trees, coefs, eta)))\n",
    "        else:\n",
    "            target = gb_predict(X_train, trees, coefs, eta)\n",
    "            tree.fit(X_train, bias(y_train, target))\n",
    "            train_errors.append(mean_squared_error(y_train, gb_predict(X_train, trees, coefs, eta)))\n",
    "            test_errors.append(mean_squared_error(y_test, gb_predict(X_test, trees, coefs, eta)))\n",
    "        trees.append(tree)\n",
    "    return trees, train_errors, test_errors"
   ]
  },
  {
   "cell_type": "code",
   "execution_count": 100,
   "metadata": {},
   "outputs": [],
   "source": [
    "def plot_mse_surface(errors_matrix, n_trees_array, max_depth_array):\n",
    "    fig, ax = plt.subplots(1, figsize=(9, 6))\n",
    "    divider = make_axes_locatable(ax)\n",
    "    ax_cb = divider.append_axes(\"right\", size = \"10%\")\n",
    "    p = ax.imshow(errors_matrix, cmap='jet', origin='lower')\n",
    "    ax.set_xlabel('Максимальное число деревьев')\n",
    "    ax.set_ylabel('Максимальная глубина дерева')\n",
    "    ax.set_xticks(n_trees_array - 1)\n",
    "    ax.set_yticks(max_depth_array - 1)\n",
    "    ax.set_xticklabels(n_trees_array)\n",
    "    ax.set_yticklabels(max_depth_array)\n",
    "    cbar = p.axes.figure.colorbar(p, cax=ax_cb)\n",
    "    cbar.set_label('MSE')"
   ]
  },
  {
   "cell_type": "code",
   "execution_count": 13,
   "metadata": {},
   "outputs": [],
   "source": [
    "X, y = load_diabetes(return_X_y=True)"
   ]
  },
  {
   "cell_type": "code",
   "execution_count": 14,
   "metadata": {},
   "outputs": [],
   "source": [
    "X_train, X_test, y_train, y_test = model_selection.train_test_split(X, y, test_size=0.25)"
   ]
  },
  {
   "cell_type": "code",
   "execution_count": 101,
   "metadata": {},
   "outputs": [],
   "source": [
    "n_t, n_m = 20, 10\n",
    "n_trees_array = np.linspace(1, n_t, n_t, dtype=np.int64)\n",
    "max_depth_array = np.linspace(1, n_m, n_m, dtype=np.int64)\n",
    "errors_matrix = [gb_fit(X_train, y_train, X_test, y_test, n_t, j, [1]*n_t, 1)[1:] for j in max_depth_array]\n",
    "train_errors_matrix = [l[0] for l in errors_matrix]\n",
    "test_errors_matrix = [l[1] for l in errors_matrix]"
   ]
  },
  {
   "attachments": {},
   "cell_type": "markdown",
   "metadata": {},
   "source": [
    "Ошибки на трейне:"
   ]
  },
  {
   "cell_type": "code",
   "execution_count": 102,
   "metadata": {},
   "outputs": [
    {
     "data": {
      "image/png": "[encoded data removed]",
      "text/plain": [
       "<Figure size 648x432 with 2 Axes>"
      ]
     },
     "metadata": {
      "needs_background": "light"
     },
     "output_type": "display_data"
    }
   ],
   "source": [
    "plot_mse_surface(train_errors_matrix, n_trees_array, max_depth_array)\n",
    "plt.show()"
   ]
  },
  {
   "attachments": {},
   "cell_type": "markdown",
   "metadata": {},
   "source": [
    "При увеличении глубины и числа деревьев появляются признаки переобучения."
   ]
  },
  {
   "attachments": {},
   "cell_type": "markdown",
   "metadata": {},
   "source": [
    "Ошибки на тесте:"
   ]
  },
  {
   "cell_type": "code",
   "execution_count": 103,
   "metadata": {},
   "outputs": [
    {
     "data": {
      "image/png": "[encoded data removed]",
      "text/plain": [
       "<Figure size 648x432 with 2 Axes>"
      ]
     },
     "metadata": {
      "needs_background": "light"
     },
     "output_type": "display_data"
    }
   ],
   "source": [
    "plot_mse_surface(test_errors_matrix, n_trees_array, max_depth_array)\n",
    "plt.show()"
   ]
  },
  {
   "attachments": {},
   "cell_type": "markdown",
   "metadata": {},
   "source": [
    "Оптимально выбрать небольшую глубину деревьев с умеренным их количеством. Например, максимальная глубина 2, число деревьев 13."
   ]
  },
  {
   "attachments": {},
   "cell_type": "markdown",
   "metadata": {},
   "source": [
    "2. Модифицируйте реализованный алгоритм, чтобы получился стохастический градиентный бустинг. Размер подвыборки примите равным 0.5. Сравните на одном графике кривые изменения ошибки на тестовой выборке в зависимости от числа итераций."
   ]
  },
  {
   "cell_type": "code",
   "execution_count": 85,
   "metadata": {},
   "outputs": [],
   "source": [
    "def gb_stoch_fit(X_train, y_train, X_test, y_test, n_trees, max_depth, coefs, eta):\n",
    "    trees = []\n",
    "    train_errors = []\n",
    "    test_errors = []\n",
    "    for i in range(n_trees):\n",
    "        tree = DecisionTreeRegressor(max_depth=max_depth, random_state=42)\n",
    "        X_sub_train, _, y_sub_train, _ = model_selection.train_test_split(X, y, test_size=0.5, random_state=42)\n",
    "        if len(trees) == 0:\n",
    "            tree.fit(X_sub_train, y_sub_train)\n",
    "            train_errors.append(mean_squared_error(y_train, gb_predict(X_train, trees, coefs, eta)))\n",
    "            test_errors.append(mean_squared_error(y_test, gb_predict(X_test, trees, coefs, eta)))\n",
    "        else:\n",
    "            target = gb_predict(X_sub_train, trees, coefs, eta)\n",
    "            tree.fit(X_sub_train, bias(y_sub_train, target))\n",
    "            train_errors.append(mean_squared_error(y_train, gb_predict(X_train, trees, coefs, eta)))\n",
    "            test_errors.append(mean_squared_error(y_test, gb_predict(X_test, trees, coefs, eta)))\n",
    "        trees.append(tree)\n",
    "    return trees, train_errors, test_errors"
   ]
  },
  {
   "cell_type": "code",
   "execution_count": 92,
   "metadata": {},
   "outputs": [],
   "source": [
    "n_trees_array = np.linspace(1, 20, 20, dtype=np.int64)\n",
    "_, _, test_gb_mse = gb_fit(X_train, y_train, X_test, y_test, n_trees_array[-1], 3, [1]*n_trees_array[-1], 1)\n",
    "_, _, test_gbs_mse = gb_stoch_fit(X_train, y_train, X_test, y_test, n_trees_array[-1], 3, [1]*n_trees_array[-1], 1)"
   ]
  },
  {
   "cell_type": "code",
   "execution_count": 93,
   "metadata": {},
   "outputs": [
    {
     "data": {
      "text/plain": [
       "<matplotlib.legend.Legend at 0x7f579de80d60>"
      ]
     },
     "execution_count": 93,
     "metadata": {},
     "output_type": "execute_result"
    },
    {
     "data": {
      "image/png": "[encoded data removed]",
      "text/plain": [
       "<Figure size 648x432 with 1 Axes>"
      ]
     },
     "metadata": {
      "needs_background": "light"
     },
     "output_type": "display_data"
    }
   ],
   "source": [
    "fig, ax = plt.subplots(1, figsize=(9, 6))\n",
    "ax.plot(n_trees_array, test_gb_mse, '.', label='Gradient boosting')\n",
    "ax.plot(n_trees_array, test_gbs_mse, '.', label='Stochastic gradient boosting')\n",
    "ax.legend()"
   ]
  },
  {
   "attachments": {},
   "cell_type": "markdown",
   "metadata": {},
   "source": [
    "Стохастический градиентный бустинг позволяет получить меньшую MSE на тесте."
   ]
  },
  {
   "cell_type": "markdown",
   "metadata": {},
   "source": []
  }
 ],
 "metadata": {
  "kernelspec": {
   "display_name": "Python 3",
   "language": "python",
   "name": "python3"
  },
  "language_info": {
   "codemirror_mode": {
    "name": "ipython",
    "version": 3
   },
   "file_extension": ".py",
   "mimetype": "text/x-python",
   "name": "python",
   "nbconvert_exporter": "python",
   "pygments_lexer": "ipython3",
   "version": "3.10.6"
  },
  "orig_nbformat": 4
 },
 "nbformat": 4,
 "nbformat_minor": 2
}
